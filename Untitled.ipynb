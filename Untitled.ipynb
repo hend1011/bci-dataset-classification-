{
 "cells": [
  {
   "cell_type": "code",
   "execution_count": null,
   "metadata": {},
   "outputs": [
    {
     "name": "stdout",
     "output_type": "stream",
     "text": [
      "WOA is optimizing  \"FN1\"\n"
     ]
    }
   ],
   "source": [
    "# -*- coding: utf-8 -*-\n",
    "\"\"\"\n",
    "Created on Fri Apr  2 22:32:58 2021\n",
    "\n",
    
    "\"\"\"\n",
    "\n",
    "import warnings\n",
    "warnings.filterwarnings(\"ignore\")\n",
    "import csv\n",
    "import numpy\n",
    "import time\n",
    "import selector as slctr\n",
    "import fitnessFUNs\n",
    "\n",
    "# Select optimizers\n",
    "\n",
    "PSO= False\n",
    "MVO= False\n",
    "GWO = False\n",
    "MFO= False\n",
    "WOA= True\n",
    "FFA=False\n",
    "BAT=False\n",
    "SSA=False\n",
    "\n",
    "optimizer=[PSO,MVO,GWO,MFO, WOA,FFA,BAT,SSA]\n",
  
    "datasets=[\"al pro\"]\n",
    
    "NumOfRuns=20\n",
    "# Select general parameters for all optimizers (population size, number of iterations)\n",
    "PopulationSize = 10\n",
    "Iterations= 20\n",
    "\n",
    "#Export results ?\n",
    "Export=True\n",
    "\n",
    "\n",
    "#ExportToFile=\"YourResultsAreHere.csv\"\n",
    "#Automaticly generated file name by date and time\n",
    "ExportToFile=\"experiment\"+time.strftime(\"%Y-%m-%d-%H-%M-%S\")+\".csv\" \n",
    "\n",
    "# Check if it works at least once\n",
    "Flag=False\n",
    "\n",
    "# CSV Header for for the cinvergence \n",
    "CnvgHeader1=[]\n",
    "CnvgHeader2=[]\n",
    "\n",
    "\n",
    "for l in range(0,Iterations):\n",
    "\tCnvgHeader1.append(\"Iter\"+str(l+1))\n",
    "\n",
    "for l in range(0,Iterations):\n",
    "\tCnvgHeader2.append(\"Iter\"+str(l+1))\n",
    "\n",
    "\n",
    "for j in range (0, len(datasets)):        # specfiy the number of the datasets\n",
    "    for i in range (0, len(optimizer)):\n",
    "    \n",
    "        if((optimizer[i]==True)): # start experiment if an optimizer and an objective function is selected\n",
    "            for k in range (0,NumOfRuns):\n",
    "                \n",
    "                #func_details=[\"costNN\",-1,1]\n",
    "                func_details=fitnessFUNs.getFunctionDetails(0)\n",
    "                completeData=datasets[j]+\".csv\"\n",
    "                x=slctr.selector(i,func_details,PopulationSize,Iterations,completeData)\n",
    "                  \n",
    "                if(Export==True):\n",
    "                    with open(ExportToFile, 'a',newline='\\n') as out:\n",
    "                        writer = csv.writer(out,delimiter=',')\n",
    "                        if (Flag==False): # just one time to write the header of the CSV file\n",
    "                            header= numpy.concatenate([[\"Optimizer\",\"Dataset\",\"objfname\",\"Experiment\",\"startTime\",\"EndTime\",\"ExecutionTime\",\"trainAcc\",\"testAcc\",\"Sensitivity\",\"Specificity\",\"AUC\"],CnvgHeader1,CnvgHeader1])\n",
    "                            writer.writerow(header)\n",
    "                        a=numpy.concatenate([[x.optimizer,datasets[j],x.objfname,k+1,x.startTime,x.endTime,x.executionTime,x.trainAcc,x.testAcc,x.sen,x.spec,x.auc],x.convergence1,x.convergence2])\n",
    "                        writer.writerow(a)\n",
    "                    out.close()\n",
    "                Flag=True # at least one experiment\n",
    "                \n",
    "if (Flag==False): # Faild to run at least one experiment\n",
    "    print(\"No Optomizer or Cost function is selected. Check lists of available optimizers and cost functions\") \n",
    "        \n",
    "        "
   ]
  },
  {
   "cell_type": "code",
   "execution_count": null,
   "metadata": {},
   "outputs": [],
   "source": [
    "import pandas as pd\n",
    "DataFile=\"datasets/\"+completeData\n",
    "bin_data = pd.read_csv(DataFile)\n",
    "numRowsData=bin_data.shape[0]\n",
    "    \n",
    "features = bin_data.iloc[:,0:93]# dataset excluding target attribute (encoded, one-hot-encoded,original)\n",
    "labels = bin_data['intrusion'] # target attribute\n",
    "    "
   ]
  },
  {
   "cell_type": "code",
   "execution_count": null,
   "metadata": {},
   "outputs": [],
   "source": [
    "features.head(5)"
   ]
  }
 ],
 "metadata": {
  "kernelspec": {
   "display_name": "Python 3",
   "language": "python",
   "name": "python3"
  },
  "language_info": {
   "codemirror_mode": {
    "name": "ipython",
    "version": 3
   },
   "file_extension": ".py",
   "mimetype": "text/x-python",
   "name": "python",
   "nbconvert_exporter": "python",
   "pygments_lexer": "ipython3",
   "version": "3.8.5"
  }
 },
 "nbformat": 4,
 "nbformat_minor": 4
}
